{
 "cells": [
  {
   "cell_type": "markdown",
   "metadata": {},
   "source": [
    "# Pytorch Tensors \n",
    "Welcome! In this notebook you will learn what a **tensor** is, how to create and inspect tensors, and finally how to build a very small neural network (**MLP**) using torch. Each topic has a short text you can read first, then a code cell you can run.\n",
    "\n",
    "[![Open In Colab](https://colab.research.google.com/assets/colab-badge.svg)](https://colab.research.google.com/github/hyperskill-content/hyperskill-ml-notebooks/blob/main/pytorch_tensors.ipynb)"
   ]
  },
  {
   "cell_type": "markdown",
   "metadata": {},
   "source": [
    "## 🚀 Prerequisites\n",
    "\n",
    "Make sure you’re comfortable with the topics below before starting this notebook:\n",
    "\n",
    "| # | Topic (clickable links)|\n",
    "|---|-------|\n",
    "| 1 | **[Introduction to PyTorch](https://hyperskill.org/learn/step/34436)**  |\n",
    "| 2 | **[Basics of neural network architecture](https://hyperskill.org/learn/step/26997)** |\n",
    "| 3 | **[Activation functions](https://hyperskill.org/learn/step/35741)** | \n",
    "| 4 | **[Multilayer perceptron](https://hyperskill.org/learn/step/47283)** | \n",
    "\n",
    "*If you’re new to any item above, review it quickly, then dive back in here.*"
   ]
  },
  {
   "cell_type": "markdown",
   "metadata": {},
   "source": [
    "# 📑 Table of Contents\n",
    "\n",
    "1. [What Is a Tensor?](#sec-tensor)  \n",
    "2. [Inspecting a Tensor](#sec-inspect)  \n",
    "3. [Creating Tensors](#sec-create)  \n",
    "4. [Indexing & Slicing](#sec-index)  \n",
    "5. [Reshaping & Transposing](#sec-reshape)  \n",
    "6. [In-Place vs Out-of-Place Ops](#sec-inplace)  \n",
    "7. [Broadcasting](#sec-broadcast)  \n",
    "8. [Mini Exercise — RGB to Grayscale](#sec-grayscale)  \n",
    "9. [Tiny MLP](#sec-mlp)\n"
   ]
  },
  {
   "cell_type": "code",
   "execution_count": 2,
   "metadata": {},
   "outputs": [
    {
     "name": "stdout",
     "output_type": "stream",
     "text": [
      "PyTorch version: 2.2.2\n"
     ]
    }
   ],
   "source": [
    "import torch\n",
    "import torch.nn as nn\n",
    "import matplotlib.pyplot as plt\n",
    "\n",
    "print(\"PyTorch version:\", torch.__version__)"
   ]
  },
  {
   "cell_type": "markdown",
   "metadata": {},
   "source": [
    "### 1. What Is a Tensor?\n",
    "<a id=\"sec-tensor\"></a>\n",
    "A **tensor** is simply a multidimensional array of numbers.  \n",
    "* A single number is a **0-D tensor** (scalar).  \n",
    "* A list like `[1, 2, 3]` is a **1-D tensor** (vector).  \n",
    "* A table of numbers is a **2-D tensor** (matrix).  \n",
    "PyTorch stores tensors efficiently and lets us move them to GPU for speed.\n"
   ]
  },
  {
   "cell_type": "code",
   "execution_count": 2,
   "metadata": {},
   "outputs": [
    {
     "name": "stdout",
     "output_type": "stream",
     "text": [
      "scalar: tensor(7)\n",
      "vector: tensor([1, 2, 3])\n",
      "matrix:\n",
      " tensor([[1, 2],\n",
      "        [3, 4]])\n"
     ]
    }
   ],
   "source": [
    "scalar = torch.tensor(7)                # 0-D\n",
    "vector = torch.tensor([1, 2, 3])        # 1-D\n",
    "matrix = torch.tensor([[1, 2], [3, 4]]) # 2-D\n",
    "print(\"scalar:\", scalar)\n",
    "print(\"vector:\", vector)\n",
    "print(\"matrix:\\n\", matrix)\n"
   ]
  },
  {
   "cell_type": "markdown",
   "metadata": {},
   "source": [
    "### 2. Inspecting a Tensor — First Things to Check\n",
    "<a id=\"sec-inspect\"></a>\n",
    "Before any operation, ask three quick questions:\n",
    "\n",
    "| Property | Why you need it | How to get it |\n",
    "|----------|-----------------|---------------|\n",
    "| **shape** | does it fit the layer? | `x.shape` |\n",
    "| **dtype** | float, int, bool? | `x.dtype` |\n",
    "| **device** | CPU or GPU? | `x.device` |\n",
    "\n",
    "Bonus helpers:  \n",
    "* `x.ndim` → number of dimensions  \n",
    "* `x.numel()` → total elements  \n",
    "* `x.stride()` → memory step size per dim (helps with speed issues)\n"
   ]
  },
  {
   "cell_type": "code",
   "execution_count": 3,
   "metadata": {},
   "outputs": [
    {
     "name": "stdout",
     "output_type": "stream",
     "text": [
      "shape : torch.Size([2, 3, 4])\n",
      "dtype : torch.float32\n",
      "device: cpu\n",
      "ndim  : 3\n",
      "numel : 24\n",
      "stride: (12, 4, 1)\n"
     ]
    }
   ],
   "source": [
    "x = torch.rand(2, 3, 4)\n",
    "print(\"shape :\", x.shape)\n",
    "print(\"dtype :\", x.dtype)\n",
    "print(\"device:\", x.device)\n",
    "print(\"ndim  :\", x.ndim)\n",
    "print(\"numel :\", x.numel())\n",
    "print(\"stride:\", x.stride())\n"
   ]
  },
  {
   "cell_type": "markdown",
   "metadata": {},
   "source": [
    "### 3. Creating Tensors — Your Toolkit\n",
    "<a id=\"sec-create\"></a>\n",
    "\n",
    "Use these factory functions every day:\n",
    "\n",
    "| Function | Typical use |\n",
    "|----------|-------------|\n",
    "| `torch.zeros` | initialise weights / masks |\n",
    "| `torch.ones`  | add bias of ones |\n",
    "| `torch.empty` | reserve memory fast (values uninitialised) |\n",
    "| `torch.full`  | constant tensors (e.g. padding value) |\n",
    "| `torch.arange`, `torch.linspace` | index vectors, positional encodings |\n",
    "\n",
    "*Real-world tip:* Random initialisation matters — try different seeds when models misbehave.\n"
   ]
  },
  {
   "cell_type": "code",
   "execution_count": 4,
   "metadata": {},
   "outputs": [
    {
     "name": "stdout",
     "output_type": "stream",
     "text": [
      "zeros:\n",
      " tensor([[0., 0., 0.],\n",
      "        [0., 0., 0.]])\n",
      "range:\n",
      " tensor([[0, 1, 2],\n",
      "        [3, 4, 5]])\n",
      "ones:\n",
      " tensor([[1., 1., 1.],\n",
      "        [1., 1., 1.]])\n",
      "linspace:\n",
      " tensor([0.0000, 0.2500, 0.5000, 0.7500, 1.0000])\n",
      "full:\n",
      " tensor([[42, 42, 42],\n",
      "        [42, 42, 42]])\n"
     ]
    }
   ],
   "source": [
    "z = torch.zeros(2, 3)\n",
    "o = torch.ones(2, 3)\n",
    "r = torch.arange(0, 6).reshape(2, 3)\n",
    "l = torch.linspace(0, 1, steps=5)\n",
    "c = torch.full((2, 3), 42)\n",
    "print(\"zeros:\\n\", z)\n",
    "print(\"range:\\n\", r)\n",
    "print(\"ones:\\n\", o)\n",
    "print(\"linspace:\\n\", l)\n",
    "print(\"full:\\n\", c)\n"
   ]
  },
  {
   "cell_type": "markdown",
   "metadata": {},
   "source": [
    "### 4. Indexing & Slicing — Grabbing What You Need\n",
    "<a id=\"sec-index\"></a>\n",
    "\n",
    "Like NumPy, but with gradients.\n",
    "\n",
    "* Row / column selection  \n",
    "* Boolean masks for filtering  \n",
    "* Concatenation (`torch.cat`) and stacking (`torch.stack`) to merge data  \n",
    "  *Use case:* building mini-batches from separate tensors.\n"
   ]
  },
  {
   "cell_type": "code",
   "execution_count": 5,
   "metadata": {},
   "outputs": [
    {
     "name": "stdout",
     "output_type": "stream",
     "text": [
      "a:\n",
      " tensor([[ 0,  1,  2,  3],\n",
      "        [ 4,  5,  6,  7],\n",
      "        [ 8,  9, 10, 11]])\n",
      "row 1 : tensor([4, 5, 6, 7])\n",
      "col 0 : tensor([0, 4, 8])\n",
      "evens : tensor([ 0,  2,  4,  6,  8, 10])\n",
      "cat shape: torch.Size([6, 4])\n",
      "stack shape: torch.Size([3, 2, 4])\n"
     ]
    }
   ],
   "source": [
    "a = torch.arange(12).reshape(3, 4)\n",
    "print(\"a:\\n\", a)\n",
    "print(\"row 1 :\", a[1])          # second row\n",
    "print(\"col 0 :\", a[:, 0])       # first column\n",
    "mask = a % 2 == 0\n",
    "print(\"evens :\", a[mask])       # boolean filter\n",
    "\n",
    "b = torch.ones_like(a)\n",
    "cat = torch.cat([a, b], dim=0)  # join rows\n",
    "stk = torch.stack([a, b], dim=1)# add new dim\n",
    "print(\"cat shape:\", cat.shape)\n",
    "print(\"stack shape:\", stk.shape)\n"
   ]
  },
  {
   "cell_type": "markdown",
   "metadata": {},
   "source": [
    "### 5. Reshaping & Transposing — Same Data, New View\n",
    "<a id=\"sec-reshape\"></a>\n",
    "\n",
    "* `view`, `reshape` → change shape without moving data (fast)  \n",
    "* `transpose`, `permute` → reorder dimensions  \n",
    "* `.contiguous()` → make memory continuous if needed\n",
    "\n",
    "**Use case:** Flatten images before a linear layer or swap channels for OpenCV (torch uses RGB and opencv BGR channel orders)\n"
   ]
  },
  {
   "cell_type": "code",
   "execution_count": 6,
   "metadata": {},
   "outputs": [
    {
     "name": "stdout",
     "output_type": "stream",
     "text": [
      "matrix:\n",
      " tensor([[0, 1, 2, 3],\n",
      "        [4, 5, 6, 7]])\n",
      "transposed:\n",
      " tensor([[0, 4],\n",
      "        [1, 5],\n",
      "        [2, 6],\n",
      "        [3, 7]])\n",
      "is contiguous: False\n",
      "flattened: tensor([0, 4, 1, 5, 2, 6, 3, 7])\n"
     ]
    }
   ],
   "source": [
    "v = torch.arange(8)\n",
    "m = v.view(2, 4)        # 2×4\n",
    "t = m.T                 # 4×2\n",
    "print(\"matrix:\\n\", m)\n",
    "print(\"transposed:\\n\", t)\n",
    "print(\"is contiguous:\", t.is_contiguous())\n",
    "t_c = t.contiguous().view(-1)\n",
    "print(\"flattened:\", t_c)\n"
   ]
  },
  {
   "cell_type": "markdown",
   "metadata": {},
   "source": [
    "### 6  In-Place (`*_`) vs. Out-of-Place Operations\n",
    "<a id=\"sec-inplace\"></a>\n",
    "\n",
    "* **Out-of-place** – creates a **new tensor**, original stays the same.  \n",
    "* **In-place** – ends with an underscore `_` and **changes data inside the same tensor**.  \n",
    "\n",
    "In-place saves memory but can break Autograd if you try it on a **leaf tensor** (a tensor you created with `requires_grad=True`).  \n",
    "PyTorch will stop you with the error:\n",
    "```\n",
    "RuntimeError: a leaf Variable that requires grad is being used in an in-place operation\n",
    "```\n",
    "Below are quick demos:\n",
    "\n",
    "1. Safe out-of-place  \n",
    "2. In-place error on a leaf tensor  \n",
    "3. Two safe work-arounds  \n",
    "4. In-place on a non-leaf tensor (works)"
   ]
  },
  {
   "cell_type": "code",
   "execution_count": 7,
   "metadata": {},
   "outputs": [
    {
     "name": "stdout",
     "output_type": "stream",
     "text": [
      "x: tensor([1., 2., 3.], requires_grad=True)\n",
      "y: tensor([2., 3., 4.], grad_fn=<AddBackward0>)\n"
     ]
    }
   ],
   "source": [
    "# 1️⃣  Safe out-of-place\n",
    "x = torch.tensor([1., 2., 3.], requires_grad=True)\n",
    "y = x + 1          # new tensor\n",
    "print(\"x:\", x)     # [1., 2., 3.]\n",
    "print(\"y:\", y)     # [2., 3., 4.]"
   ]
  },
  {
   "cell_type": "code",
   "execution_count": 8,
   "metadata": {},
   "outputs": [
    {
     "ename": "RuntimeError",
     "evalue": "a leaf Variable that requires grad is being used in an in-place operation.",
     "output_type": "error",
     "traceback": [
      "\u001b[0;31m---------------------------------------------------------------------------\u001b[0m",
      "\u001b[0;31mRuntimeError\u001b[0m                              Traceback (most recent call last)",
      "Cell \u001b[0;32mIn[8], line 3\u001b[0m\n\u001b[1;32m      1\u001b[0m \u001b[38;5;66;03m# 2️⃣  In-place on a leaf tensor → error\u001b[39;00m\n\u001b[1;32m      2\u001b[0m z \u001b[38;5;241m=\u001b[39m torch\u001b[38;5;241m.\u001b[39mtensor([\u001b[38;5;241m1.\u001b[39m, \u001b[38;5;241m2.\u001b[39m, \u001b[38;5;241m3.\u001b[39m], requires_grad\u001b[38;5;241m=\u001b[39m\u001b[38;5;28;01mTrue\u001b[39;00m)\n\u001b[0;32m----> 3\u001b[0m z\u001b[38;5;241m.\u001b[39madd_(\u001b[38;5;241m1\u001b[39m)\n",
      "\u001b[0;31mRuntimeError\u001b[0m: a leaf Variable that requires grad is being used in an in-place operation."
     ]
    }
   ],
   "source": [
    "# 2️⃣  In-place on a leaf tensor → error\n",
    "z = torch.tensor([1., 2., 3.], requires_grad=True)\n",
    "z.add_(1)          # raises RuntimeError"
   ]
  },
  {
   "cell_type": "code",
   "execution_count": null,
   "metadata": {},
   "outputs": [
    {
     "name": "stdout",
     "output_type": "stream",
     "text": [
      "w: tensor([2., 3., 4.], requires_grad=True)\n",
      "u_det: tensor([2., 3., 4.])\n"
     ]
    }
   ],
   "source": [
    "# 3️⃣  Safe in-place methods\n",
    "\n",
    "# 3a. Use torch.no_grad()\n",
    "w = torch.tensor([1., 2., 3.], requires_grad=True)\n",
    "with torch.no_grad():\n",
    "    w.add_(1)\n",
    "print(\"w:\", w)     # [2., 3., 4.]\n",
    "\n",
    "# 3b. Detach first\n",
    "u = torch.tensor([1., 2., 3.], requires_grad=True)\n",
    "u_det = u.detach()\n",
    "u_det.add_(1)\n",
    "print(\"u_det:\", u_det)   # [2., 3., 4.]"
   ]
  },
  {
   "cell_type": "code",
   "execution_count": 9,
   "metadata": {},
   "outputs": [
    {
     "name": "stdout",
     "output_type": "stream",
     "text": [
      "root.grad: tensor([2., 2., 2.])\n"
     ]
    }
   ],
   "source": [
    "# 4️⃣  In-place on a non-leaf tensor (allowed)\n",
    "root  = torch.tensor([1., 2., 3.], requires_grad=True)\n",
    "child = root * 2            # not a leaf\n",
    "child.add_(1)               # in-place ok\n",
    "out = child.sum()\n",
    "out.backward()\n",
    "print(\"root.grad:\", root.grad)   # tensor([2., 2., 2.])"
   ]
  },
  {
   "cell_type": "markdown",
   "metadata": {},
   "source": [
    "**Key points**\n",
    "\n",
    "* You can always use out-of-place ops—they’re simple and safe, unless you have a memory limitations.\n",
    "* If you really need in-place, wrap it in `torch.no_grad()` or use `.detach()`.  \n",
    "* PyTorch optimisers already handle in-place parameter updates for you."
   ]
  },
  {
   "cell_type": "markdown",
   "metadata": {},
   "source": [
    "### 7. Broadcasting — Math with Different Shapes\n",
    "<a id=\"sec-broadcast\"></a>\n",
    "Broadcasting lets PyTorch stretch a smaller tensor to match a larger one.\n",
    "\n",
    "**Use case:** Add channel-wise mean / std when normalising images.\n"
   ]
  },
  {
   "cell_type": "code",
   "execution_count": 10,
   "metadata": {},
   "outputs": [
    {
     "name": "stdout",
     "output_type": "stream",
     "text": [
      "tensor([[1.9916, 0.7508, 0.4694],\n",
      "        [1.3362, 1.4189, 0.0522]])\n"
     ]
    }
   ],
   "source": [
    "mat = torch.rand(2, 3)\n",
    "vec = torch.tensor([1.0, 0.5, 0.0])   # shape (3,)\n",
    "res = mat + vec                       # vec → (2,3)\n",
    "print(res)\n"
   ]
  },
  {
   "cell_type": "markdown",
   "metadata": {},
   "source": [
    "### 8. Mini Exercise — From RGB to Grayscale\n",
    "<a id=\"sec-grayscale\"></a>\n",
    "\n",
    "Goal:  \n",
    "*Take a batch of RGB images, convert each one to a single-channel grayscale image, then check the new shape.*\n",
    "\n",
    "Why it matters:  \n",
    "Many computer-vision tasks (e.g., edge detection, classic ML models) need **1-channel** input instead of color.  \n",
    "Knowing how to reduce channels is a handy tensor skill.\n"
   ]
  },
  {
   "cell_type": "code",
   "execution_count": 11,
   "metadata": {},
   "outputs": [
    {
     "name": "stdout",
     "output_type": "stream",
     "text": [
      "original shape: torch.Size([16, 3, 128, 128])\n",
      "grayscale shape: torch.Size([16, 1, 128, 128])\n",
      "min/max: 0.010739028453826904 0.9929993152618408\n"
     ]
    }
   ],
   "source": [
    "# Batch of 16 RGB images with pixel values in [0, 1]\n",
    "imgs = torch.rand(16, 3, 128, 128)        # shape (B, C, H, W)\n",
    "\n",
    "# Average the 3 colour channels → grayscale\n",
    "gray = imgs.mean(dim=1, keepdim=True)     # shape becomes (B, 1, H, W)\n",
    "\n",
    "print(\"original shape:\", imgs.shape)\n",
    "print(\"grayscale shape:\", gray.shape)\n",
    "\n",
    "# Optional: verify range still [0, 1]\n",
    "print(\"min/max:\", gray.min().item(), gray.max().item())\n"
   ]
  },
  {
   "cell_type": "markdown",
   "metadata": {},
   "source": [
    "## 9️⃣ Tiny MLP — How It Works\n",
    " \n",
    "<a id=\"sec-mlp\"></a>\n",
    "\n",
    "A **Multilayer Perceptron (MLP)** is the hello-world of neural networks.  \n",
    "Ours has three main parts:\n",
    "\n",
    "| Part | What it does | Why it matters |\n",
    "|------|--------------|----------------|\n",
    "| **Flatten layer** | Turns a 3-D image `(C × H × W)` into a 1-D vector | Linear layers need 1-D input |\n",
    "| **Linear + ReLU (hidden layer)** | `x → Wx + b`, then keep only positive values | Learns mixed features (edges, colours, …) |\n",
    "| **Linear (output layer)** | New weights turn hidden features into **logits** (raw scores) | One logit per class (10 here) |\n",
    "| **Softmax (optional)** | Converts logits to probabilities that sum to 1 | Easier to read & plot |\n",
    "\n",
    "> **Why just two layers?**  \n",
    "> Small models train fast and make debugging easy. Once the flow is clear, you can add more layers or switch to ConvNets.\n",
    "\n",
    "In the demo below you will:\n",
    "\n",
    "1. Watch shapes change through the network  \n",
    "2. Turn logits into probabilities  \n",
    "3. Visualise the predicted class distribution for one sample\n"
   ]
  },
  {
   "cell_type": "code",
   "execution_count": 5,
   "metadata": {},
   "outputs": [
    {
     "name": "stdout",
     "output_type": "stream",
     "text": [
      "input   : torch.Size([4, 3, 224, 224])\n",
      "flatten : torch.Size([4, 150528])\n",
      "hidden  : torch.Size([4, 128])\n",
      "logits  : torch.Size([4, 10])\n"
     ]
    },
    {
     "data": {
      "image/png": "[encoded data removed]",
      "text/plain": [
       "<Figure size 600x300 with 1 Axes>"
      ]
     },
     "metadata": {},
     "output_type": "display_data"
    }
   ],
   "source": [
    "# ----- Tiny MLP definition -----\n",
    "class TinyMLP(nn.Module):\n",
    "    def __init__(self, in_features=3*224*224, hidden=128, out=10):\n",
    "        super().__init__()\n",
    "        self.flat = nn.Flatten()              # 1️⃣ flatten\n",
    "        self.hidden = nn.Linear(in_features, hidden)\n",
    "        self.act = nn.ReLU()\n",
    "        self.out = nn.Linear(hidden, out)\n",
    "\n",
    "    def forward(self, x):\n",
    "        print(\"input   :\", x.shape)            # (B, 3, 224, 224)\n",
    "        x = self.flat(x)\n",
    "        print(\"flatten :\", x.shape)            # (B, 150 528)\n",
    "        x = self.act(self.hidden(x))\n",
    "        print(\"hidden  :\", x.shape)            # (B, 128)\n",
    "        logits = self.out(x)\n",
    "        print(\"logits  :\", logits.shape)       # (B, 10)\n",
    "        return logits\n",
    "\n",
    "# ----- Fake batch -----\n",
    "batch = torch.rand(4, 3, 224, 224)            # 4 RGB images\n",
    "\n",
    "model = TinyMLP()\n",
    "logits = model(batch)                         # forward pass\n",
    "probs  = logits.softmax(dim=1)                # nice probabilities\n",
    "\n",
    "# ----- Visualise probs for the first sample -----\n",
    "classes = [f\"C{i}\" for i in range(10)]\n",
    "plt.figure(figsize=(6,3))\n",
    "plt.bar(classes, probs[0].detach().numpy())\n",
    "plt.title(\"Class probabilities (sample 0)\")\n",
    "plt.ylabel(\"Probability\")\n",
    "plt.xlabel(\"Class\")\n",
    "plt.ylim(0, 1)\n",
    "plt.show()\n"
   ]
  },
  {
   "cell_type": "markdown",
   "metadata": {},
   "source": [
    "### 9.1  Autograd in Action — One Training Step\n",
    "\n",
    "`Autograd` is PyTorch’s automatic-differentiation engine.  \n",
    "When you call `.backward()`, PyTorch walks back through the graph and fills `.grad` for each parameter.\n",
    "\n",
    "Below we will:\n",
    "\n",
    "1. Create **fake labels**.  \n",
    "2. Compute **cross-entropy loss** on the logits from the Tiny MLP.  \n",
    "3. Call `loss.backward()` and inspect one gradient tensor.\n"
   ]
  },
  {
   "cell_type": "code",
   "execution_count": 6,
   "metadata": {},
   "outputs": [
    {
     "name": "stdout",
     "output_type": "stream",
     "text": [
      "loss: 2.3891186714172363\n",
      "hidden.weight.grad shape: torch.Size([128, 150528])\n"
     ]
    }
   ],
   "source": [
    "import torch.nn.functional as F\n",
    "\n",
    "# ----- fake labels (0-9) -----\n",
    "targets = torch.randint(0, 10, (logits.size(0),))       # shape (B,)\n",
    "\n",
    "# ----- loss & backward -----\n",
    "loss = F.cross_entropy(logits, targets)\n",
    "print(\"loss:\", loss.item())\n",
    "\n",
    "loss.backward()    # gradients now stored in model parameters\n",
    "\n",
    "# show gradient of first weight matrix\n",
    "for name, p in model.named_parameters():\n",
    "    if p.requires_grad:\n",
    "        print(f\"{name}.grad shape:\", p.grad.shape)\n",
    "        break\n"
   ]
  },
  {
   "cell_type": "markdown",
   "metadata": {},
   "source": [
    "### 9.2  Moving Data & Model to GPU\n",
    "\n",
    "If you have an NVIDIA GPU, you can run the same network **much faster**.\n",
    "\n",
    "Steps:\n",
    "\n",
    "1. Pick a device: `\"cuda\"` if available, else `\"cpu\"`.  \n",
    "2. `.to(device)` on **both** data **and** model.  \n",
    "3. Run the forward pass.  (Optionally, time it.)\n"
   ]
  },
  {
   "cell_type": "code",
   "execution_count": 9,
   "metadata": {},
   "outputs": [
    {
     "name": "stdout",
     "output_type": "stream",
     "text": [
      "Using device: cpu\n",
      "input   : torch.Size([8, 3, 224, 224])\n",
      "flatten : torch.Size([8, 150528])\n",
      "hidden  : torch.Size([8, 128])\n",
      "logits  : torch.Size([8, 10])\n",
      "output shape: torch.Size([8, 10])\n"
     ]
    }
   ],
   "source": [
    "device = torch.device(\"cuda\" if torch.cuda.is_available() else \"cpu\")\n",
    "print(\"Using device:\", device)\n",
    "\n",
    "# move model and a new dummy batch\n",
    "model_gpu = TinyMLP().to(device)\n",
    "batch_gpu  = torch.rand(8, 3, 224, 224, device=device)\n",
    "\n",
    "# quick timing\n",
    "with torch.no_grad():\n",
    "    logits_gpu = model_gpu(batch_gpu)        # forward on GPU / CPU\n",
    "print(\"output shape:\", logits_gpu.shape)\n"
   ]
  },
  {
   "cell_type": "markdown",
   "metadata": {},
   "source": [
    "### 9.3  Putting It All Together\n",
    "\n",
    "* You now know how to **create a model**, **move it to GPU**,  \n",
    "  **run a forward pass**, **compute loss**, and **back-propagate gradients**.\n",
    "\n"
   ]
  },
  {
   "cell_type": "markdown",
   "metadata": {},
   "source": [
    "#### Exercise 1 – Build a 2 × 3 Tensor of Zeros  \n",
    "\n",
    "Create a tensor named **`t`** with shape `(2, 3)`, all zeros, `dtype=torch.float32`, living on the CPU.\n"
   ]
  },
  {
   "cell_type": "code",
   "execution_count": null,
   "metadata": {},
   "outputs": [],
   "source": [
    "import torch\n",
    "# 🚧 Your code below\n",
    "# t = ...\n",
    "\n",
    "# 🔎 Tests\n",
    "assert isinstance(t, torch.Tensor), \"Not a tensor\"\n",
    "assert t.shape == (2, 3), \"Shape should be (2, 3)\"\n",
    "assert t.dtype == torch.float32, \"dtype must be float32\"\n",
    "assert t.device.type == \"cpu\", \"Keep it on CPU for this test\"\n",
    "assert torch.all(t == 0), \"Tensor must contain only zeros\"\n",
    "print(\"✅ Exercise 1 passed!\")\n"
   ]
  },
  {
   "cell_type": "markdown",
   "metadata": {},
   "source": [
    "#### Exercise 2 – Reshape a Vector to 3 × 4  \n",
    "\n",
    "Given the 1-D tensor `v` below, create `m` with shape `(3, 4)` **using `view`**.\n"
   ]
  },
  {
   "cell_type": "code",
   "execution_count": null,
   "metadata": {},
   "outputs": [],
   "source": [
    "v = torch.arange(12)           # [0 … 11]\n",
    "# 🚧 Your code below\n",
    "# m = ...\n",
    "\n",
    "# 🔎 Tests\n",
    "assert m.shape == (3, 4), \"Shape should be (3, 4)\"\n",
    "assert m.is_contiguous(), \"Use view, not transpose\"\n",
    "assert torch.equal(m.flatten(), v), \"Values must match original order\"\n",
    "print(\"✅ Exercise 2 passed!\")\n"
   ]
  },
  {
   "cell_type": "markdown",
   "metadata": {},
   "source": [
    "#### Exercise 3 – Stack Along a New Dimension  \n",
    "\n",
    "Stack `a` and `b` **along a new leading dimension** so the result has shape `(2, 3, 4)`.  \n",
    "(Do **not** use a Python list; use `torch.stack`.)\n"
   ]
  },
  {
   "cell_type": "code",
   "execution_count": null,
   "metadata": {},
   "outputs": [],
   "source": [
    "a = torch.ones(3, 4)\n",
    "b = torch.zeros(3, 4)\n",
    "# 🚧 Your code below\n",
    "# out = ...\n",
    "\n",
    "# 🔎 Tests\n",
    "assert out.shape == (2, 3, 4), \"Result should be (2, 3, 4)\"\n",
    "assert (out[0] == 1).all() and (out[1] == 0).all(), \"Order should be [a, b]\"\n",
    "print(\"✅ Exercise 3 passed!\")\n"
   ]
  },
  {
   "cell_type": "markdown",
   "metadata": {},
   "source": [
    "#### Exercise 4 – Convert to Grayscale  \n",
    "\n",
    "Given a batch `imgs` of shape `(N, 3, H, W)` with values in `[0, 1]`,  \n",
    "create **`gray`** with shape `(N, 1, H, W)` by averaging the colour channels.\n"
   ]
  },
  {
   "cell_type": "code",
   "execution_count": null,
   "metadata": {},
   "outputs": [],
   "source": [
    "imgs = torch.rand(5, 3, 64, 64)   # fake batch\n",
    "# 🚧 Your code below\n",
    "# gray = ...\n",
    "\n",
    "# 🔎 Tests\n",
    "assert gray.shape == (5, 1, 64, 64), \"Wrong shape\"\n",
    "assert (gray >= 0).all() and (gray <= 1).all(), \"Keep values in [0, 1]\"\n",
    "# spot-check mean\n",
    "assert torch.allclose(gray[0,0,0,0], imgs[0,:,0,0].mean()), \"Averaging mismatch\"\n",
    "print(\"✅ Exercise 4 passed!\")\n"
   ]
  },
  {
   "cell_type": "markdown",
   "metadata": {},
   "source": [
    "#### Exercise 5 – Device Transfer  \n",
    "\n",
    "Move tensor `x` and the TinyMLP `model` to **`cuda`** *if* a GPU is available,  \n",
    "otherwise leave them on CPU.  Store the result in `x_dev` and `model_dev`.\n"
   ]
  },
  {
   "cell_type": "code",
   "execution_count": null,
   "metadata": {},
   "outputs": [],
   "source": [
    "x = torch.rand(2, 3, 224, 224)\n",
    "model = TinyMLP()\n",
    "\n",
    "device = torch.device(\"cuda\" if torch.cuda.is_available() else \"cpu\")\n",
    "# 🚧 Your code below\n",
    "# x_dev = ...\n",
    "# model_dev = ...\n",
    "\n",
    "# 🔎 Tests\n",
    "assert x_dev.device == device, \"x_dev on wrong device\"\n",
    "assert next(model_dev.parameters()).device == device, \"model_dev on wrong device\"\n",
    "print(\"✅ Exercise 5 passed!\")\n"
   ]
  },
  {
   "cell_type": "markdown",
   "metadata": {},
   "source": [
    "## Conclusion\n",
    "\n",
    "To work confidently with data in PyTorch, start by **creating tensors** with helper functions such as `torch.zeros`, `torch.ones`, or `torch.rand`, then **inspect** them with `.shape`, `.dtype`, and `.device` to catch shape or type errors early.  \n",
    "When you need a new view of the same data, use `view` / `reshape`; if you must reorder dimensions, rely on `transpose` or `permute`, and call `.contiguous()` before reshaping if the stride is disrupted.\n",
    "\n",
    "Slice and index tensors just as you would in NumPy, or merge them with `torch.cat` and `torch.stack` to build mini-batches.  \n",
    "Remember that **out-of-place operations** create new tensors and are always safe, while **in-place operations** (ending in `_`) save memory but cannot be applied to leaf tensors that require gradients without wrapping them in `torch.no_grad()` or detaching first.\n",
    "\n",
    "Use **broadcasting** to let PyTorch align smaller tensors automatically—ideal for channel-wise operations like converting an RGB batch to a single-channel grayscale batch by averaging along `dim=1`.\n",
    "\n",
    "After preprocessing, **flatten images** before a `Linear` layer, pass them through a hidden layer with `ReLU`, and produce logits with an output layer to form a **tiny MLP**.  \n",
    "Compute loss with `torch.nn.functional.cross_entropy`, call `loss.backward()` to fill parameter gradients, and move both data and model to `\"cuda\"` when a GPU is available to accelerate training.\n",
    "\n",
    "These steps—tensor creation, inspection, reshaping, safe memory operations, broadcasting, simple preprocessing, Autograd, and GPU transfer—form the everyday toolkit for building and debugging neural-network pipelines in PyTorch.\n"
   ]
  }
 ],
 "metadata": {
  "kernelspec": {
   "display_name": "Python 3",
   "language": "python",
   "name": "python3"
  },
  "language_info": {
   "codemirror_mode": {
    "name": "ipython",
    "version": 3
   },
   "file_extension": ".py",
   "mimetype": "text/x-python",
   "name": "python",
   "nbconvert_exporter": "python",
   "pygments_lexer": "ipython3",
   "version": "3.11.7"
  }
 },
 "nbformat": 4,
 "nbformat_minor": 2
}
